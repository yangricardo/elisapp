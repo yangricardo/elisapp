{
 "cells": [
  {
   "cell_type": "code",
   "execution_count": 3,
   "metadata": {},
   "outputs": [],
   "source": [
    "import os, sys, django, pandas as pd , numpy as np, requests, json, re, itertools\n",
    "from django.db.models import Q\n",
    "from utils import TJData, setup_env, ElisAPI\n",
    "# configura notebook para se utilizar recursos do django, se necessário\n",
    "setup_env() \n",
    "from api import models as tj\n",
    "# objeto para interagir com a minha API\n",
    "api = ElisAPI('http://0.0.0.0:8000','elisdbadmin','elisdbpassword')"
   ]
  },
  {
   "cell_type": "code",
   "execution_count": 4,
   "metadata": {},
   "outputs": [
    {
     "ename": "AttributeError",
     "evalue": "'list' object has no attribute 'shape'",
     "output_type": "error",
     "traceback": [
      "\u001b[0;31m\u001b[0m",
      "\u001b[0;31mAttributeError\u001b[0mTraceback (most recent call last)",
      "\u001b[0;32m<ipython-input-4-27c05d323ee3>\u001b[0m in \u001b[0;36m<module>\u001b[0;34m\u001b[0m\n\u001b[1;32m     29\u001b[0m     \u001b[0mall_dfs\u001b[0m\u001b[0;34m.\u001b[0m\u001b[0mappend\u001b[0m\u001b[0;34m(\u001b[0m\u001b[0mdf\u001b[0m\u001b[0;34m)\u001b[0m\u001b[0;34m\u001b[0m\u001b[0;34m\u001b[0m\u001b[0m\n\u001b[1;32m     30\u001b[0m \u001b[0mprocessos\u001b[0m \u001b[0;34m=\u001b[0m \u001b[0mTJData\u001b[0m\u001b[0;34m.\u001b[0m\u001b[0mto_json\u001b[0m\u001b[0;34m(\u001b[0m\u001b[0mpd\u001b[0m\u001b[0;34m.\u001b[0m\u001b[0mconcat\u001b[0m\u001b[0;34m(\u001b[0m\u001b[0mall_dfs\u001b[0m\u001b[0;34m)\u001b[0m\u001b[0;34m)\u001b[0m\u001b[0;34m\u001b[0m\u001b[0;34m\u001b[0m\u001b[0m\n\u001b[0;32m---> 31\u001b[0;31m \u001b[0mprocessos\u001b[0m\u001b[0;34m.\u001b[0m\u001b[0mshape\u001b[0m\u001b[0;34m\u001b[0m\u001b[0;34m\u001b[0m\u001b[0m\n\u001b[0m",
      "\u001b[0;31mAttributeError\u001b[0m: 'list' object has no attribute 'shape'"
     ]
    }
   ],
   "source": [
    "serventias_jec = pd.DataFrame(\n",
    "    list(map(lambda x: (x.comarca.desc_redu,x.comarca.desc_coma, x.cod_serv, x.desc_serv),\n",
    "        tj.Serventia.objects.filter(\n",
    "            Q(desc_serv__contains='Juizado Especial Cível'),\n",
    "            Q(comarca__desc_redu='BAN') | Q(comarca__desc_redu='CGR')\n",
    "    ))),\n",
    "    columns=['comarca.desc_redu','comarca.desc_coma','cod_serv','desc_serv']\n",
    ")\n",
    "serventias_jec\n",
    "# gera uma lista de tupla com as possibilidades dos codigos de serventias e um intervalo dos anos\n",
    "servs_anos = list(itertools.product(list(serventias_jec.cod_serv),range(2013,2017)))\n",
    "\n",
    "# gera a lista dos arquivos que deverão ser lidos\n",
    "processos_serv_ano = [TJData.processo(serv,ano) for serv,ano in servs_anos]\n",
    "\n",
    "# colunas que serão utilizadas no processo\n",
    "usecols=['COD_PROC','COD_COMP','COD_SERV','ID_PROC','COD_ASSUNTO','DATA_CAD']\n",
    "\n",
    "files_available = TJData.list_files_in_serventias(TJData.processo(None,None),servs_anos)\n",
    "servs_anos = list(map(lambda x : TJData.extract_serventia_ano_tuple(x),files_available))\n",
    "all_dfs = []\n",
    "for serv,ano in servs_anos:\n",
    "    df = TJData.read_csv(TJData.processo(serv,ano),usecols=usecols)\n",
    "    df = df.rename(columns=lambda x : x.lower())\n",
    "    df = df.rename(columns={'cod_comp':'competencia','cod_serv':'serventia','cod_assunto':'assunto'})\n",
    "    df.cod_proc = TJData.to_utf8_bytes(df.cod_proc)\n",
    "    df.data_cad = TJData.to_datetime_iso_format(df.data_cad)\n",
    "    df.data_cad = TJData.to_utf8_bytes(df.data_cad)\n",
    "    all_dfs.append(df)\n",
    "processos = TJData.to_json(pd.concat(all_dfs))\n",
    "processos.shape"
   ]
  },
  {
   "cell_type": "code",
   "execution_count": 9,
   "metadata": {},
   "outputs": [
    {
     "data": {
      "text/plain": [
       "153009"
      ]
     },
     "execution_count": 9,
     "metadata": {},
     "output_type": "execute_result"
    }
   ],
   "source": [
    "len(processos)"
   ]
  },
  {
   "cell_type": "code",
   "execution_count": null,
   "metadata": {},
   "outputs": [],
   "source": []
  }
 ],
 "metadata": {
  "kernelspec": {
   "display_name": "Django Shell-Plus",
   "language": "python",
   "name": "django_extensions"
  },
  "language_info": {
   "codemirror_mode": {
    "name": "ipython",
    "version": 3
   },
   "file_extension": ".py",
   "mimetype": "text/x-python",
   "name": "python",
   "nbconvert_exporter": "python",
   "pygments_lexer": "ipython3",
   "version": "3.7.3"
  }
 },
 "nbformat": 4,
 "nbformat_minor": 2
}
