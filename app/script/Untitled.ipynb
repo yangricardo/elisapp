{
 "cells": [
  {
   "cell_type": "code",
   "execution_count": 1,
   "metadata": {},
   "outputs": [],
   "source": [
    "import os, sys, django, pandas as pd , numpy as np, requests, json, re\n",
    "from utils import TJData, setup_env, APIHandler, nan_to_int\n",
    "# configura notebook para se utilizar recursos do django, se necessário\n",
    "setup_env() \n",
    "from api.models import Comarca, Serventia, Assunto, Classe, ClasseAssunto, Competencia, Processo, ProcessoUnico, TipoPersonagem\n",
    "# objeto para interagir com a minha API\n",
    "api = APIHandler('http://0.0.0.0:8000','elisdbadmin','elisdbpassword')"
   ]
  },
  {
   "cell_type": "code",
   "execution_count": 2,
   "metadata": {},
   "outputs": [
    {
     "data": {
      "text/plain": [
       "{'assunto': 'Parameters/ASSUNTO.csv',\n",
       " 'assunto_2': 'Parametros/DCP_ASSUNTO.csv.gz',\n",
       " 'assunto_3': 'ASSUNTO.csv',\n",
       " 'tipo_pedido_mp': 'Parameters/DCP_DCP_TIPOPEDIDOMP.csv',\n",
       " 'tipo_vinculo': 'Parameters/DCP_TIPOVINCULO.CSV',\n",
       " 'serventias_full': 'Parameters/serventias_full.csv',\n",
       " 'ato_juiz': 'Parameters/ATOJUIZ.csv',\n",
       " 'ato_juiz_2': 'Parametros/DCP_ATOJUIZ.csv.gz',\n",
       " 'destinatario': 'Parameters/DCP_DESTINATARIO.CSV',\n",
       " 'tipo_vinculo_processo': 'Parameters/DCP_TIPOVINCULOPROCESSO.csv',\n",
       " 'tipo_andamento': 'Parameters/tipoandamento.csv',\n",
       " 'classe': 'Parameters/cLASSE.csv',\n",
       " 'orgao_mp': 'Parameters/DCP_ORGAOMP.CSV',\n",
       " 'grupo_processamento': 'Parameters/GRUPOPROCESSAMENTO.csv',\n",
       " 'tipo_ato_juiz': 'Parameters/TIPOATOJUIZ.csv',\n",
       " 'comarca': 'Parameters/DCP_Comarca.csv',\n",
       " 'tipo_categoria_serventia': 'Parameters/DCP_TIPOCATEGORIASERVENTIA.csv',\n",
       " 'tipo_destinatario': 'Parameters/proccorp_tipodestinatario.csv',\n",
       " 'competencia': 'Parameters/DCP_Competencia.csv',\n",
       " 'tipo_remessa': 'Parameters/DCP_TIPOREMESSA.csv',\n",
       " 'rito': 'Parametros/DCP_RITO.csv.gz',\n",
       " 'advogado': 'Advogado/dcpadvogado_2013-2017.csv.gz',\n",
       " 'indice_processo': 'IndiceProcesso/PROCCORP_INDICEPROCESSO_2013-2017.csv.gz',\n",
       " 'personagem': 'Personagem/PERSONAGEMP_2013-2017.csv.gz',\n",
       " 'personagem_especial': 'PersonagemEspecial/PROCESSO_PERSONAGEM_ESPECIAL_2013-2017.csv.gz',\n",
       " 'personagem_especial_original': 'PersonagemEspecialOriginal/Personagem_especialOriginal_2015_2017.csv.gz',\n",
       " 'personagem_processo': 'PersonagemProcesso/DCP_PERSONAGEMPROCESSO_2013-2017.csv.gz',\n",
       " 'cargo': 'Parametros/DCP_CARGO.csv.gz',\n",
       " 'classe_assunto_2': 'Parametros/DCP_CLASSEASSUNTO.csv.gz',\n",
       " 'classe_assunto_primeiro_nivel': 'Parametros/DCP_CLASSEASSUNTOPRIMEIRONIVEL.csv.gz',\n",
       " 'classe_2': 'Parametros/DCP_CLASSE.csv.gz',\n",
       " 'comarca_2': 'Parametros/DCP_Comarca.csv.gz',\n",
       " 'funcao': 'Parametros/dcp_funcao.csv.gz',\n",
       " 'serventia_2': 'Parametros/DCP_Serventias.csv.gz',\n",
       " 'tipo_acao_cnj': 'Parametros/DCP_TIPO_ACAO_CNJ.csv.gz',\n",
       " 'tipo_acao': 'Parametros/DCP_TIPO_ACAO.csv.gz ',\n",
       " 'tipo_andamento_1': 'Parametros/DCP_TIPO_ANDAMENTO_Created.csv.gz',\n",
       " 'tipo_andamento_2': 'Parametros/DCP_TIPO_ANDAMENTO.csv.gz',\n",
       " 'tipo_andamento_local': 'Parametros/DCP_TIPOANDAMENTOLOCAL.csv.gz',\n",
       " 'tipo_categoria_docto_juntada': 'Parametros/DCP_TIPO_CATEGORIA_DOCTO_JUNTADA.csv.gz',\n",
       " 'tipo_decisao': 'Parametros/DCP_TIPO_DECISAO.csv.gz',\n",
       " 'tipo_decisao_recurso': 'Parametros/DCP_TIPO_DECISAO_RECURSO.csv.gz',\n",
       " 'tipo_entidade': 'Parametros/DCP_TIPO_ENTIDADE.csv.gz',\n",
       " 'tipo_movimento': 'Parametros/dcptipomovimento-Created.csv.gz',\n",
       " 'tipo_movimento_2': 'Parametros/dcptipomovimento.csv.gz',\n",
       " 'tipo_personagem': 'Parametros/tipopersonagem.csv.gz',\n",
       " 'grupo_processamento_2': 'Parametros/DCP_GRUPOPROCESSAMENTO.csv.gz',\n",
       " 'tipo_resultado_audiencia': 'Parametros/dcp_TipoResultadoAudiencia.csv.gz',\n",
       " 'funcionario': 'Parametros/funcionario.csv.gz',\n",
       " 'tipo_documento': 'Parametros/PROCOORP_TIPODOCUMENTO.csv.gz',\n",
       " 'tipo_documento_juntada': 'Parametros/TIPODOCUMENTOJUNTADA.csv.gz',\n",
       " 'tipo_andamento_3': 'Parametros/DCP_TipoAndamento_created.csv.gz',\n",
       " 'processo_unico': 'ProcessoUnico.csv.gz'}"
      ]
     },
     "execution_count": 2,
     "metadata": {},
     "output_type": "execute_result"
    }
   ],
   "source": [
    "TJData.csv"
   ]
  },
  {
   "cell_type": "code",
   "execution_count": null,
   "metadata": {},
   "outputs": [],
   "source": []
  }
 ],
 "metadata": {
  "kernelspec": {
   "display_name": "Django Shell-Plus",
   "language": "python",
   "name": "django_extensions"
  },
  "language_info": {
   "codemirror_mode": {
    "name": "ipython",
    "version": 3
   },
   "file_extension": ".py",
   "mimetype": "text/x-python",
   "name": "python",
   "nbconvert_exporter": "python",
   "pygments_lexer": "ipython3",
   "version": "3.7.3"
  }
 },
 "nbformat": 4,
 "nbformat_minor": 2
}
