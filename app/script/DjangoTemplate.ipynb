{
 "cells": [
  {
   "cell_type": "code",
   "execution_count": 2,
   "metadata": {},
   "outputs": [],
   "source": [
    "import os, sys, django, pandas as pd , numpy as np, requests, json, re, itertools\n",
    "from django.db.models import Q\n",
    "from utils import TJData, setup_env, ElisAPI\n",
    "# configura notebook para se utilizar recursos do django, se necessário\n",
    "setup_env() \n",
    "from api import models as tj\n",
    "# objeto para interagir com a minha API\n",
    "api = ElisAPI('http://0.0.0.0:8000','elisdbadmin','elisdbpassword')"
   ]
  },
  {
   "cell_type": "markdown",
   "metadata": {},
   "source": [
    "### Comarca\n",
    "O bloco de código abaixo foi utilizado para analisar e decidir visualmente qual planilha referente a comarcas será utilizada, a planilha mapeada por `comarca` possui a coluna `COD_SERV` possui codigos distintos dos referenciados por demais planilhas\n",
    "```\n",
    "com_1 = TJData.read_csv(TJData.csv['comarca'],usecols=['COD_COM','NOME','NOME_REDU','COD_TJ'])\n",
    "com_2 = TJData.read_csv(TJData.csv['comarca_2'], usecols=['COD_COMA','DESC_COMA','COD_TJ','DESC_REDU'])\n",
    "com = pd.merge(left=com_1,right=com_2,how='inner',left_on='NOME_REDU', right_on='DESC_REDU')\n",
    "```\n",
    "\n",
    "#### Tratamento de dados"
   ]
  },
  {
   "cell_type": "raw",
   "metadata": {},
   "source": [
    "comarcas = TJData.read_csv(TJData.csv['comarca_2'], usecols=['COD_COMA','DESC_COMA','DESC_REDU'])\n",
    "# converte o cabeçalho para caixa baixa\n",
    "comarcas = comarcas.rename(columns=lambda x: str(x).lower())\n",
    "# filtra as linhas com cod_coma nulas\n",
    "comarcas = comarcas[~pd.isnull(comarcas.cod_coma)]\n",
    "# converte de float para int\n",
    "comarcas.cod_coma = comarcas.cod_coma.astype(int)\n",
    "# codifica os bytes da string para utf8\n",
    "comarcas.desc_coma = TJData.to_utf8_bytes(comarcas.desc_coma)\n",
    "comarcas.desc_redu = TJData.to_utf8_bytes(comarcas.desc_redu)\n",
    "# converte o dataframe em objeto json (lista de dicionarios)\n",
    "comarcas = TJData.to_json(comarcas)\n",
    "# envia requisições post concorrentes\n",
    "r = api.concurrent_request(api.post,'comarcas',comarcas)"
   ]
  },
  {
   "cell_type": "raw",
   "metadata": {},
   "source": [
    "api.get_erros(r,201)"
   ]
  },
  {
   "cell_type": "markdown",
   "metadata": {},
   "source": [
    "### Serventia\n",
    "\n",
    "``` \n",
    "serv_1 = TJData.read_csv(TJData.csv['serventia_2'], usecols=['COD_SERV','DESC_SERV','COD_COMA','DESC_ABRE','DESC_REDU'] )\n",
    "serv_2 = TJData.read_csv(TJData.csv['serventias_full'], usecols=['COD_SERV','DESC_SERV','COD_COMA','DESC_ABRE','DESC_REDU'])\n",
    "serv = pd.merge(left=serv_1,right=serv_2,how='inner',left_on='COD_SERV', right_on='COD_SERV')\n",
    "serv_outer = pd.merge(left=serv_1,right=serv_2,how='outer',left_on='COD_SERV', right_on='COD_SERV')\n",
    "```\n",
    "#### Tratamento de dados"
   ]
  },
  {
   "cell_type": "raw",
   "metadata": {},
   "source": [
    "serventias = TJData.read_csv(TJData.csv['serventia_2'], usecols=['COD_SERV','DESC_SERV','COD_COMA','DESC_ABRE'] )\n",
    "serventias = serventias.rename(columns=lambda x: str(x).lower())\n",
    "# ajusta cod_coma para referenciar o atributo comarca(FK) de serventia\n",
    "serventias = serventias.rename(columns={'cod_coma':'comarca'})\n",
    "serventias = serventias[~pd.isnull(serventias.comarca)]\n",
    "serventias.comarca = serventias.comarca.astype(int)\n",
    "# elimina codigos de comarca não existentes\n",
    "serventias = serventias.query(\"comarca != 888 & comarca != 999\")\n",
    "serventias.desc_serv =  TJData.to_utf8_bytes(serventias.desc_serv)\n",
    "serventias.desc_abre =  TJData.to_utf8_bytes(serventias.desc_abre)\n",
    "serventias = TJData.to_json(serventias)\n",
    "r = api.concurrent_request(api.post,'serventias',serventias)"
   ]
  },
  {
   "cell_type": "raw",
   "metadata": {},
   "source": [
    "api.get_erros(r,201)"
   ]
  },
  {
   "cell_type": "markdown",
   "metadata": {},
   "source": [
    "### Competencias"
   ]
  },
  {
   "cell_type": "raw",
   "metadata": {},
   "source": [
    "competencias = TJData.read_csv(TJData.csv['competencia'], usecols=['COD_COMP', 'DESC_COMP', 'DESC_RES'])\n",
    "competencias = competencias.rename(columns=lambda x: str(x).lower())\n",
    "competencias.cod_comp = competencias.cod_comp.astype(int)\n",
    "competencias.desc_comp = TJData.to_utf8_bytes(competencias.desc_comp)\n",
    "competencias.desc_res= TJData.to_utf8_bytes(competencias.desc_res)\n",
    "competencias = TJData.to_json(competencias)\n",
    "r = api.concurrent_request(api.post,'competencias',competencias)"
   ]
  },
  {
   "cell_type": "raw",
   "metadata": {},
   "source": [
    "api.get_erros(r,201)"
   ]
  },
  {
   "cell_type": "markdown",
   "metadata": {},
   "source": [
    "### Tipo Personagem"
   ]
  },
  {
   "cell_type": "raw",
   "metadata": {},
   "source": [
    "tp_pers = TJData.read_csv(TJData.csv['tipo_personagem'], usecols=['COD_TIP_PERS', 'DESC_PERS', 'TIPO_PART','COD_TIP_PERS_INV'])\n",
    "tp_pers = tp_pers.rename(columns=lambda x: str(x).lower())\n",
    "tp_pers.cod_tip_pers_inv = TJData.nan_to_int(tp_pers.cod_tip_pers_inv)\n",
    "tp_pers = tp_pers.sort_values(by='cod_tip_pers', ascending=True)\n",
    "tp_pers.desc_pers = TJData.to_utf8_bytes(tp_pers.desc_pers)\n",
    "tp_pers.tipo_part = TJData.to_utf8_bytes(tp_pers.tipo_part)\n",
    "# divide a requisição devido a referencia circular\n",
    "tp_pers_post = TJData.to_json(tp_pers.drop(columns=['cod_tip_pers_inv']))\n",
    "tp_pers_patch = TJData.to_json(tp_pers.drop(columns=['desc_pers','tipo_part']))\n",
    "r_post = api.concurrent_request(api.post,'tipospersonagem',tp_pers_post)\n",
    "r_patch = api.concurrent_request(api.patch,'tipospersonagem',tp_pers_patch,detail='cod_tip_pers')"
   ]
  },
  {
   "cell_type": "raw",
   "metadata": {},
   "source": [
    "api.get_erros(r_patch,200)"
   ]
  },
  {
   "cell_type": "markdown",
   "metadata": {},
   "source": [
    "### Assunto"
   ]
  },
  {
   "cell_type": "raw",
   "metadata": {},
   "source": [
    "assuntos = TJData.read_csv(TJData.csv['assunto'], usecols=['COD_ASSUNTO', 'COD_ASSUNTO_PAI', 'DESCR'])\n",
    "assuntos = assuntos.rename(columns=lambda x: str(x).lower())\n",
    "assuntos = assuntos.rename(columns={'cod_assunto_pai':'assunto_pai'})\n",
    "assuntos = assuntos.sort_values(by='cod_assunto', ascending=True)\n",
    "assuntos.assunto_pai = TJData.nan_to_int(assuntos.assunto_pai)\n",
    "assuntos.descr = TJData.to_utf8_bytes(assuntos.descr)\n",
    "assuntos_post = TJData.to_json(assuntos.drop(columns=['assunto_pai']))\n",
    "assuntos_patch = TJData.to_json(assuntos.drop(columns=['descr']))\n",
    "r_post = api.concurrent_request(api.post,'assuntos',assuntos_post)\n",
    "r_patch = api.concurrent_request(api.patch,'assuntos',assuntos_patch,detail='cod_assunto')"
   ]
  },
  {
   "cell_type": "raw",
   "metadata": {},
   "source": [
    "api.get_erros(r_post,201)"
   ]
  },
  {
   "cell_type": "raw",
   "metadata": {},
   "source": [
    "api.get_erros(r_patch,200)"
   ]
  },
  {
   "cell_type": "markdown",
   "metadata": {},
   "source": [
    "### Classe"
   ]
  },
  {
   "cell_type": "raw",
   "metadata": {},
   "source": [
    "classes = TJData.read_csv(TJData.csv['classe'], usecols=['COD_CLASSE', 'DESCR', 'COD_CLASSE_PAI','COD_PERS_ATIVO','COD_PERS_PASSIVO'])\n",
    "classes = classes.rename(columns=lambda x : str(x).lower())\n",
    "classes = classes.rename(columns={'cod_classe_pai':'classe_pai'})\n",
    "classes = classes.sort_values(by='cod_classe', ascending=True)\n",
    "classes.classe_pai = TJData.nan_to_int(classes.classe_pai)\n",
    "classes.cod_pers_ativo = TJData.nan_to_int(classes.cod_pers_ativo)\n",
    "classes.cod_pers_passivo = TJData.nan_to_int(classes.cod_pers_passivo)\n",
    "classes.descr = TJData.to_utf8_bytes(classes.descr)\n",
    "classes_post = TJData.to_json(classes.drop(columns=['classe_pai','cod_pers_ativo','cod_pers_passivo']))\n",
    "classes_patch = TJData.to_json(classes.drop(columns=['descr']))\n",
    "r_post = api.concurrent_request(api.post,'classes',classes_post)\n",
    "r_patch = api.concurrent_request(api.patch,'classes',classes_patch,detail='cod_classe')"
   ]
  },
  {
   "cell_type": "raw",
   "metadata": {},
   "source": [
    "api.get_erros(r_post,201)"
   ]
  },
  {
   "cell_type": "raw",
   "metadata": {
    "scrolled": true
   },
   "source": [
    "api.get_erros(r_patch,200)"
   ]
  },
  {
   "cell_type": "markdown",
   "metadata": {},
   "source": [
    "### Classe assunto"
   ]
  },
  {
   "cell_type": "raw",
   "metadata": {},
   "source": [
    "classes_assuntos = TJData.read_csv(TJData.csv['classe_assunto_2'], usecols=['COD_CLASSE','COD_ASSUNTO'])\n",
    "classes_assuntos = classes_assuntos.rename(columns={'COD_CLASSE':'classe','COD_ASSUNTO':'assunto'})\n",
    "classes_assuntos = TJData.to_json(classes_assuntos)\n",
    "r = api.concurrent_request(api.post,'classesassuntos',classes_assuntos)"
   ]
  },
  {
   "cell_type": "raw",
   "metadata": {},
   "source": [
    "# Dado a grande quantidade de registros, o primeiro processamento fez com que a maquina travasse, \n",
    "# o código abaixo fez com que não precisasse enviar requisições de todos os dados \n",
    "\n",
    "# Dado a grande quantidade de registros, o primeiro processamento fez com que a maquina travasse, \n",
    "# o código abaixo fez com que não precisasse enviar requisições de todos os dados \n",
    "\n",
    "# le a tabela original\n",
    "classes_assuntos = TJData.read_csv(TJData.csv['classe_assunto_2'], usecols=['COD_CLASSE','COD_ASSUNTO'])\n",
    "classes_assuntos = classes_assuntos.rename(columns={'COD_CLASSE':'classe','COD_ASSUNTO':'assunto'})\n",
    "\n",
    "# obtem os registros no banco\n",
    "ca = api.get('classesassuntos')\n",
    "ca = pd.DataFrame(api.response_to_json(ca)).drop(columns=['id'])\n",
    "\n",
    "# cria conjuntos Set e obtem a diferença dos dados não cadastrados\n",
    "in_db = set(map(lambda x: (x['classe'],x['assunto']),TJData.to_json(ca)))\n",
    "original = set(map(lambda x: (x['classe'],x['assunto']),TJData.to_json(classes_assuntos)))\n",
    "print(f'in_db: {len(in_db)}',f'original: {len(original)}')\n",
    "out_db = pd.DataFrame(original.difference(in_db),columns=['classe','assunto'])\n",
    "print(f'out_db: {len(out_db)}')\n",
    "out_db = TJData.to_json(out_db)\n",
    "\n",
    "# filtra as pks de assunto inexistentes\n",
    "#{'{\"assunto\":[\"Invalid pk \\\\\"30521\\\\\" - object does not exist.\"]}',\n",
    "# '{\"assunto\":[\"Invalid pk \\\\\"30523\\\\\" - object does not exist.\"]}'}\n",
    "out_db = list(filter(lambda x: x['assunto'] not in [30521,30523], out_db))\n",
    "\n",
    "# divide em listas de 5000 registros por request\n",
    "out_db_splitted = api.split_list(out_db, len(out_db)//5000)\n",
    "\n",
    "r_post = api.concurrent_request(api.post,'classesassuntos',out_db_splitted)"
   ]
  },
  {
   "cell_type": "markdown",
   "metadata": {},
   "source": [
    "### Tipo movimento"
   ]
  },
  {
   "cell_type": "raw",
   "metadata": {},
   "source": [
    "tp_movimento = TJData.read_csv(TJData.csv['tipo_movimento_2'], usecols=['COD_TIP_MOV', 'COD_TIP_MOV_PAI','DESCR'])\n",
    "tp_movimento = tp_movimento.rename(columns=lambda x : str(x).lower())\n",
    "tp_movimento.cod_tip_mov_pai = TJData.nan_to_int(tp_movimento.cod_tip_mov_pai)\n",
    "tp_movimento.descr = TJData.to_utf8_bytes(tp_movimento.descr)\n",
    "tp_movimento = tp_movimento.sort_values(by='cod_tip_mov', ascending=True)\n",
    "tp_movimento_post = TJData.to_json(tp_movimento.drop(columns=['cod_tip_mov_pai']))\n",
    "tp_movimento_patch = TJData.to_json(tp_movimento.drop(columns=['descr']))\n",
    "r_post = api.concurrent_request(api.post,'tiposmovimento',tp_movimento_post)\n",
    "r_patch = api.concurrent_request(api.patch,'tiposmovimento',tp_movimento_patch,detail='cod_tip_mov')"
   ]
  },
  {
   "cell_type": "raw",
   "metadata": {},
   "source": [
    "api.get_erros(r_post,201)"
   ]
  },
  {
   "cell_type": "raw",
   "metadata": {},
   "source": [
    "r_patch,api.get_erros(r_patch,200)"
   ]
  },
  {
   "cell_type": "markdown",
   "metadata": {},
   "source": [
    "### Tipo Andamento"
   ]
  },
  {
   "cell_type": "raw",
   "metadata": {},
   "source": [
    "tp_andamento = TJData.read_csv(TJData.csv['tipo_andamento'], usecols=['COD_TIP_AND','DESCR','COD_TIP_MOV'])\n",
    "tp_andamento = tp_andamento.rename(columns=lambda x : str(x).lower())\n",
    "tp_andamento.cod_tip_mov = TJData.nan_to_int(tp_andamento.cod_tip_mov)\n",
    "tp_andamento.descr = TJData.to_utf8_bytes(tp_andamento.descr)\n",
    "tp_andamento = TJData.to_json(tp_andamento)\n",
    "r_post = api.concurrent_request(api.post,'tiposandamento',tp_andamento)"
   ]
  },
  {
   "cell_type": "raw",
   "metadata": {},
   "source": [
    "api.get_erros(r_post,201)"
   ]
  },
  {
   "cell_type": "markdown",
   "metadata": {},
   "source": [
    "### Cargo"
   ]
  },
  {
   "cell_type": "raw",
   "metadata": {},
   "source": [
    "cargo = TJData.read_csv(TJData.csv['cargo'])\n",
    "cargo = cargo.rename(columns=lambda x: str(x).lower())\n",
    "cargo = cargo.sort_values(by='cod_carg', ascending=True)\n",
    "cargo.descr = TJData.to_utf8_bytes(cargo.descr)\n",
    "cargo = TJData.to_json(cargo)\n",
    "r = api.concurrent_request(api.post,'cargos',cargo)"
   ]
  },
  {
   "cell_type": "raw",
   "metadata": {},
   "source": [
    "api.get_erros(r_post,201)"
   ]
  },
  {
   "cell_type": "markdown",
   "metadata": {},
   "source": [
    "### Funcionário"
   ]
  },
  {
   "cell_type": "raw",
   "metadata": {},
   "source": [
    "funcionario = TJData.read_csv(TJData.csv['funcionario'], usecols=['NUM_MATR','NOME','COD_CARG'])\n",
    "funcionario = funcionario.rename(columns=lambda x : x.lower())\n",
    "funcionario.num_matr = TJData.to_utf8_bytes(funcionario.num_matr)\n",
    "funcionario.nome = TJData.to_utf8_bytes(funcionario.nome)\n",
    "funcionario.cod_carg = TJData.nan_to_int(funcionario.cod_carg)\n",
    "# filtra Juiz(3), Juiz Leigo(19) e Juiz de Direito - Desabilitado pela SOI (98)\n",
    "funcionario = funcionario.query('cod_carg==\"3\" | cod_carg==\"19\" | cod_carg==\"98\"')\n",
    "funcionario = TJData.to_json(funcionario)\n",
    "r_post = api.concurrent_request(api.post,'funcionarios',funcionario)"
   ]
  },
  {
   "cell_type": "raw",
   "metadata": {},
   "source": [
    "api.get_erros(r_post,201)"
   ]
  },
  {
   "cell_type": "markdown",
   "metadata": {},
   "source": [
    "### Tipo Decisão Recurso"
   ]
  },
  {
   "cell_type": "raw",
   "metadata": {},
   "source": [
    "tp_recursos = TJData.read_csv(TJData.csv['tipo_decisao_recurso'])\n",
    "tp_recursos = tp_recursos.rename(columns=lambda x:x.lower())\n",
    "tp_recursos.descr = TJData.to_utf8(tp_recursos.descr)\n",
    "tp_recursos = TJData.to_json(tp_recursos)\n",
    "r_post = api.concurrent_request(api.post,'tiposdecisaorecurso',tp_recursos)"
   ]
  },
  {
   "cell_type": "markdown",
   "metadata": {},
   "source": [
    "### Tipo Ato Juiz"
   ]
  },
  {
   "cell_type": "raw",
   "metadata": {},
   "source": [
    "tp_ato_juiz = TJData.read_csv(TJData.csv['tipo_ato_juiz'])\n",
    "tp_ato_juiz = tp_ato_juiz.rename(columns=lambda x:x.lower())\n",
    "tp_ato_juiz.descr = TJData.to_utf8_bytes(tp_ato_juiz.descr)\n",
    "tp_ato_juiz = TJData.to_json(tp_ato_juiz)\n",
    "r_post = api.concurrent_request(api.post,'tiposatojuiz',tp_ato_juiz)"
   ]
  },
  {
   "cell_type": "markdown",
   "metadata": {},
   "source": [
    "### Ato Juiz"
   ]
  },
  {
   "cell_type": "raw",
   "metadata": {},
   "source": [
    "# descoberta de tuplas diferentes entre as tabelas ato juiz\n",
    "atos_juiz = TJData.read_csv(TJData.csv['ato_juiz'],usecols=['COD_TIP_ATO','COD_ATO','DESCR','COD_TIP_MOV'])\n",
    "atos_juiz_2 = TJData.read_csv(TJData.csv['ato_juiz_2'],usecols=['COD_TIP_ATO','COD_ATO','DESCR','COD_TIP_MOV'])\n",
    "set_atos_juiz = set(map(lambda x: (x['COD_ATO'],x['DESCR']),TJData.to_json(atos_juiz)))\n",
    "set_atos_juiz_2 = set(map(lambda x: (x['COD_ATO'],x['DESCR']),TJData.to_json(atos_juiz_2)))\n",
    "set_atos_juiz_2.difference(set_atos_juiz)"
   ]
  },
  {
   "cell_type": "raw",
   "metadata": {},
   "source": [
    "atos_juiz = TJData.read_csv(TJData.csv['ato_juiz_2'],usecols=['COD_TIP_ATO','COD_ATO','DESCR','COD_TIP_MOV'])\n",
    "atos_juiz = atos_juiz.rename(columns=lambda x: x.lower())\n",
    "atos_juiz = atos_juiz.rename(columns={'cod_tip_ato':'tipo_ato_juiz','cod_tip_mov':'tipo_movimento'})\n",
    "atos_juiz.descr = TJData.to_utf8_bytes(atos_juiz.descr)\n",
    "atos_juiz = TJData.to_json(atos_juiz)\n",
    "r_post = api.concurrent_request(api.post,'atosjuiz',atos_juiz)"
   ]
  },
  {
   "cell_type": "markdown",
   "metadata": {},
   "source": [
    "### Tipo Documento"
   ]
  },
  {
   "cell_type": "raw",
   "metadata": {},
   "source": [
    "tipos_documento = TJData.read_csv(TJData.csv['tipo_documento'],usecols=['ID_TIP_DOC','DESCR'])\n",
    "tipos_documento = tipos_documento.rename(columns=lambda x : x.lower())\n",
    "tipos_documento.descr = TJData.to_utf8_bytes(tipos_documento.descr)\n",
    "tipos_documento = TJData.to_json(tipos_documento)\n",
    "r_post = api.concurrent_request(api.post,'tiposdocumento',tipos_documento)"
   ]
  },
  {
   "cell_type": "markdown",
   "metadata": {},
   "source": [
    "### Processo"
   ]
  },
  {
   "cell_type": "markdown",
   "metadata": {},
   "source": [
    "#### Obtem as serventias com função de Juizado Especial Cível das comarcas de Bangu e Campo Grande"
   ]
  },
  {
   "cell_type": "code",
   "execution_count": null,
   "metadata": {},
   "outputs": [],
   "source": [
    "serventias_jec = pd.DataFrame(\n",
    "    list(map(lambda x: (x.comarca.desc_redu,x.comarca.desc_coma, x.cod_serv, x.desc_serv),\n",
    "        tj.Serventia.objects.filter(\n",
    "            Q(desc_serv__contains='Juizado Especial Cível'),\n",
    "            Q(comarca__desc_redu='BAN') | Q(comarca__desc_redu='CGR')\n",
    "    ))),\n",
    "    columns=['comarca.desc_redu','comarca.desc_coma','cod_serv','desc_serv']\n",
    ")\n",
    "serventias_jec"
   ]
  },
  {
   "cell_type": "markdown",
   "metadata": {},
   "source": [
    "#### Obtem a lista de planilhas para processar resultantes codigos de serventias e do intervalo de anos selecinados "
   ]
  },
  {
   "cell_type": "raw",
   "metadata": {},
   "source": [
    "# gera uma lista de tupla com as possibilidades dos codigos de serventias e um intervalo dos anos\n",
    "servs_anos = list(itertools.product(list(serventias_jec.cod_serv),range(2013,2017)))\n",
    "\n",
    "# gera a lista dos arquivos que deverão ser lidos\n",
    "processos_serv_ano = [TJData.processo(serv,ano) for serv,ano in servs_anos]\n",
    "\n",
    "# colunas que serão utilizadas no processo\n",
    "usecols=['COD_PROC','COD_COMP','COD_SERV','ID_PROC','COD_ASSUNTO','DATA_CAD']\n",
    "\n",
    "files_available = TJData.list_files_in_serventias(TJData.processo(None,None),servs_anos)\n",
    "servs_anos = list(map(lambda x : TJData.extract_serventia_ano_tuple(x),files_available))"
   ]
  },
  {
   "cell_type": "markdown",
   "metadata": {},
   "source": [
    "#### Processa planilhas do processo a partir dos servs_anos selecionados e realiza post requests concorrentes"
   ]
  },
  {
   "cell_type": "raw",
   "metadata": {},
   "source": [
    "all_dfs = []\n",
    "for serv,ano in servs_anos:\n",
    "    df = TJData.read_csv(TJData.processo(serv,ano),usecols=usecols)\n",
    "    df = df.rename(columns=lambda x : x.lower())\n",
    "    df = df.rename(columns={'cod_comp':'competencia','cod_serv':'serventia','cod_assunto':'assunto'})\n",
    "    df.cod_proc = TJData.to_utf8_bytes(df.cod_proc)\n",
    "    df.data_cad = TJData.to_datetime_iso_format(df.data_cad)\n",
    "    df.data_cad = TJData.to_utf8_bytes(df.data_cad)\n",
    "    all_dfs.append(df)\n",
    "processos = TJData.to_json(pd.concat(all_dfs))\n",
    "# prepara lista para os post requests concorrentes\n",
    "processos = api.split_list(processos,4000)\n",
    "r_post = api.concurrent_request(api.post,'processos',processos)"
   ]
  },
  {
   "cell_type": "markdown",
   "metadata": {},
   "source": [
    "####  carrega os processos que por algum motivo não tenham sido processados anteriormente"
   ]
  },
  {
   "cell_type": "raw",
   "metadata": {},
   "source": [
    "#obtem dataframe original\n",
    "processos = pd.concat(all_dfs)\n",
    "#obtem lista de id_proc cadastrados\n",
    "in_db = list(map(lambda x: x.id_proc,tj.Processo.objects.all()))\n",
    "#filtra processos que não estão cadastrados\n",
    "processos = processos[~processos.id_proc.isin(in_db)]\n",
    "processos = TJData.to_json(processos)\n",
    "r_post = api.concurrent_request(api.post,'processos',processos)"
   ]
  },
  {
   "cell_type": "markdown",
   "metadata": {},
   "source": [
    "##### Processa Codigo do CNJ do processo"
   ]
  },
  {
   "cell_type": "code",
   "execution_count": null,
   "metadata": {},
   "outputs": [],
   "source": [
    "usecols=['ID_PROC','COD_CNJ','COD_PROC']\n",
    "cod_procs = list(map(lambda x: x.cod_proc, tj.Processo.objects.filter(cod_cnj=None)))\n",
    "processos_unicos = pd.DataFrame(columns=usecols)\n",
    "for df in TJData.read_csv(TJData.csv['processo_unico'], usecols=usecols, chunksize=50000):\n",
    "    df = df[df.COD_PROC.isin(cod_procs)]\n",
    "    processos_unicos = pd.concat([processos_unicos,df])\n",
    "processos_unicos = processos_unicos.rename(columns=lambda x : x.lower())\n",
    "processos_unicos.cod_cnj = TJData.to_utf8_bytes(processos_unicos.cod_cnj)\n",
    "processos_unicos.cod_proc = TJData.to_utf8_bytes(processos_unicos.cod_proc)\n",
    "processos_unicos = TJData.to_json(processos_unicos)\n",
    "r_patch = api.concurrent_request(api.patch,'processos',processos_unicos, detail = 'id_proc')"
   ]
  },
  {
   "cell_type": "code",
   "execution_count": 9,
   "metadata": {},
   "outputs": [],
   "source": []
  },
  {
   "cell_type": "code",
   "execution_count": null,
   "metadata": {},
   "outputs": [],
   "source": []
  },
  {
   "cell_type": "code",
   "execution_count": 4,
   "metadata": {
    "scrolled": true
   },
   "outputs": [
    {
     "data": {
      "text/plain": [
       "153009"
      ]
     },
     "execution_count": 4,
     "metadata": {},
     "output_type": "execute_result"
    }
   ],
   "source": [
    "tj.Processo.objects.filter(cod_cnj=None)"
   ]
  },
  {
   "cell_type": "code",
   "execution_count": 20,
   "metadata": {},
   "outputs": [
    {
     "data": {
      "text/plain": [
       "[({'id_proc': 108330129,\n",
       "   'cod_cnj': '0001965-24.2013.8.19.0205',\n",
       "   'cod_proc': '2013.205.001567-5'},\n",
       "  <Response [200]>),\n",
       " ({'id_proc': 108331497,\n",
       "   'cod_cnj': '0001462-06.2013.8.19.0204',\n",
       "   'cod_proc': '2013.204.001456-0'},\n",
       "  <Response [200]>),\n",
       " ({'id_proc': 108332240,\n",
       "   'cod_cnj': '0001470-80.2013.8.19.0204',\n",
       "   'cod_proc': '2013.204.001464-9'},\n",
       "  <Response [200]>),\n",
       " ({'id_proc': 108332422,\n",
       "   'cod_cnj': '0001476-87.2013.8.19.0204',\n",
       "   'cod_proc': '2013.204.001470-4'},\n",
       "  <Response [200]>),\n",
       " ({'id_proc': 108331800,\n",
       "   'cod_cnj': '0001465-58.2013.8.19.0204',\n",
       "   'cod_proc': '2013.204.001459-5'},\n",
       "  <Response [200]>),\n",
       " ({'id_proc': 108290536,\n",
       "   'cod_cnj': '0000722-48.2013.8.19.0204',\n",
       "   'cod_proc': '2013.204.000720-7'},\n",
       "  <Response [200]>),\n",
       " ({'id_proc': 108332321,\n",
       "   'cod_cnj': '0001472-50.2013.8.19.0204',\n",
       "   'cod_proc': '2013.204.001466-2'},\n",
       "  <Response [200]>),\n",
       " ({'id_proc': 108332126,\n",
       "   'cod_cnj': '0001467-28.2013.8.19.0204',\n",
       "   'cod_proc': '2013.204.001461-3'},\n",
       "  <Response [200]>),\n",
       " ({'id_proc': 108293185,\n",
       "   'cod_cnj': '0001072-33.2013.8.19.0205',\n",
       "   'cod_proc': '2013.205.000875-0'},\n",
       "  <Response [200]>),\n",
       " ({'id_proc': 108293216,\n",
       "   'cod_cnj': '0001073-18.2013.8.19.0205',\n",
       "   'cod_proc': '2013.205.000876-2'},\n",
       "  <Response [200]>)]"
      ]
     },
     "execution_count": 20,
     "metadata": {},
     "output_type": "execute_result"
    }
   ],
   "source": [
    "r_patch"
   ]
  },
  {
   "cell_type": "code",
   "execution_count": 18,
   "metadata": {},
   "outputs": [
    {
     "data": {
      "text/plain": [
       "'http://0.0.0.0:8000/api/models/processos/id_proc/'"
      ]
     },
     "execution_count": 18,
     "metadata": {},
     "output_type": "execute_result"
    }
   ],
   "source": [
    "r.request.url"
   ]
  },
  {
   "cell_type": "code",
   "execution_count": null,
   "metadata": {},
   "outputs": [],
   "source": []
  }
 ],
 "metadata": {
  "kernelspec": {
   "display_name": "Django Shell-Plus",
   "language": "python",
   "name": "django_extensions"
  },
  "language_info": {
   "codemirror_mode": {
    "name": "ipython",
    "version": 3
   },
   "file_extension": ".py",
   "mimetype": "text/x-python",
   "name": "python",
   "nbconvert_exporter": "python",
   "pygments_lexer": "ipython3",
   "version": "3.7.3"
  }
 },
 "nbformat": 4,
 "nbformat_minor": 2
}
