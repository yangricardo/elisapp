{
 "cells": [
  {
   "cell_type": "code",
   "execution_count": 3,
   "metadata": {},
   "outputs": [],
   "source": [
    "import os, sys, django, pandas as pd , numpy as np, requests, json, re\n",
    "from utils import TJData, setup_env, APIHandler, nan_to_int\n",
    "# configura notebook para se utilizar recursos do django, se necessário\n",
    "setup_env() \n",
    "from api.models import Comarca, Serventia, Assunto, Classe, ClasseAssunto, Competencia, Processo, ProcessoUnico, TipoPersonagem\n",
    "# objeto para interagir com a minha API\n",
    "api = APIHandler('http://0.0.0.0:8000','elisdbadmin','elisdbpassword')"
   ]
  },
  {
   "cell_type": "markdown",
   "metadata": {},
   "source": [
    "### Comarca\n",
    "O bloco de código abaixo foi utilizado para analisar e decidir visualmente qual planilha referente a comarcas será utilizada, a planilha mapeada por `comarca` possui a coluna `COD_SERV` possui codigos distintos dos referenciados por demais planilhas\n",
    "```\n",
    "com_1 = TJData.read_csv(TJData.csv['comarca'],usecols=['COD_COM','NOME','NOME_REDU','COD_TJ'])\n",
    "com_2 = TJData.read_csv(TJData.csv['comarca_2'], usecols=['COD_COMA','DESC_COMA','COD_TJ','DESC_REDU'])\n",
    "com = pd.merge(left=com_1,right=com_2,how='inner',left_on='NOME_REDU', right_on='DESC_REDU')\n",
    "```\n",
    "\n",
    "#### Tratamento de dados"
   ]
  },
  {
   "cell_type": "raw",
   "metadata": {},
   "source": [
    "# comarcas = TJData.read_csv(TJData.csv['comarca_2'], usecols=['COD_COMA','DESC_COMA','DESC_REDU'])\n",
    "# filtra as linhas com cod_coma nulas\n",
    "comarcas = comarcas[~pd.isnull(comarcas.COD_COMA)]\n",
    "# converte cod_coma  para inteiro\n",
    "comarcas.COD_COMA = comarcas.COD_COMA.apply(lambda x: int(x))\n",
    "# converte o cabeçalho para caixa baixa\n",
    "comarcas = comarcas.rename(columns=lambda x: str(x).lower())\n",
    "# gera lista de objetos json a partir do dataframe\n",
    "comarca_json = json.loads(comarcas.to_json(orient='records'))\n",
    "# executa chamada a api\n",
    "r = api.post('comarcas',comarca_json)"
   ]
  },
  {
   "cell_type": "markdown",
   "metadata": {},
   "source": [
    "### Serventia\n",
    "\n",
    "``` \n",
    "serv_1 = TJData.read_csv(TJData.csv['serventia_2'], usecols=['COD_SERV','DESC_SERV','COD_COMA','DESC_ABRE','DESC_REDU'] )\n",
    "serv_2 = TJData.read_csv(TJData.csv['serventias_full'], usecols=['COD_SERV','DESC_SERV','COD_COMA','DESC_ABRE','DESC_REDU'])\n",
    "serv = pd.merge(left=serv_1,right=serv_2,how='inner',left_on='COD_SERV', right_on='COD_SERV')\n",
    "serv_outer = pd.merge(left=serv_1,right=serv_2,how='outer',left_on='COD_SERV', right_on='COD_SERV')\n",
    "```\n",
    "#### Tratamento de dados"
   ]
  },
  {
   "cell_type": "raw",
   "metadata": {},
   "source": [
    "serventias = TJData.read_csv(TJData.csv['serventia_2'], usecols=['COD_SERV','DESC_SERV','COD_COMA','DESC_ABRE'] )\n",
    "serventias = serventias[~pd.isnull(serventias.COD_COMA)]\n",
    "serventias.COD_COMA = serventias.COD_COMA.apply(lambda x: int(x))\n",
    "# elimina codigos não referenciados\n",
    "serventias = serventias[serventias.COD_COMA != 888]\n",
    "serventias = serventias[serventias.COD_COMA != 999]\n",
    "serventias = serventias.rename(columns=lambda x: str(x).lower())\n",
    "# ajusta cod_coma para referenciar o atributo comarca(FK) de serventia\n",
    "serventias = serventias.rename(columns={'cod_coma':'comarca'})\n",
    "serventia_json = json.loads(serventias.to_json(orient='records'))\n",
    "r = api.post('serventias',serventia_json)"
   ]
  },
  {
   "cell_type": "markdown",
   "metadata": {},
   "source": [
    "### Competencias"
   ]
  },
  {
   "cell_type": "raw",
   "metadata": {},
   "source": [
    "competencias = TJData.read_csv(TJData.csv['competencia'], usecols=['COD_COMP', 'DESC_COMP', 'DESC_RES'])\n",
    "competencias = competencias.rename(columns=lambda x: str(x).lower())\n",
    "competencia_json = json.loads(competencias.to_json(orient='records'))\n",
    "r = api.post('competencias',competencia_json)"
   ]
  },
  {
   "cell_type": "markdown",
   "metadata": {},
   "source": [
    "### Tipo Personagem"
   ]
  },
  {
   "cell_type": "raw",
   "metadata": {},
   "source": [
    "tp_pers = TJData.read_csv(TJData.csv['tipo_personagem'], usecols=['COD_TIP_PERS', 'DESC_PERS', 'TIPO_PART','COD_TIP_PERS_INV'])\n",
    "tp_pers.COD_TIP_PERS_INV = nan_to_int(tp_pers,'COD_TIP_PERS_INV')\n",
    "tp_pers = tp_pers.rename(columns=lambda x: str(x).lower())\n",
    "tp_pers = tp_pers.sort_values(by='cod_tip_pers', ascending=True)\n",
    "# prepara json para post de tipo personagem\n",
    "tp_pers_post = json.loads(tp_pers.drop(columns=['cod_tip_pers_inv']).to_json(orient='records'))\n",
    "# prepara json para atualizar as referencias circulares\n",
    "tp_pers_patch = json.loads(pd.DataFrame(tp_pers[['cod_tip_pers','cod_tip_pers_inv']]).to_json(orient='records'))\n",
    "r = api.post('tipospersonagem',tp_pers_post)\n",
    "bulk_patch = []\n",
    "for tp in tp_pers_patch:\n",
    "    resp = api.patch('tipospersonagem',tp['cod_tip_pers'],tp)\n",
    "    bulk_patch.append(resp)"
   ]
  },
  {
   "cell_type": "markdown",
   "metadata": {},
   "source": [
    "### Assunto"
   ]
  },
  {
   "cell_type": "raw",
   "metadata": {},
   "source": [
    "assunto = TJData.read_csv(TJData.csv['assunto'], usecols=['COD_ASSUNTO', 'COD_ASSUNTO_PAI', 'DESCR'])\n",
    "assunto = assunto.rename(columns=lambda x: str(x).lower())\n",
    "assunto = assunto.rename(columns={'cod_assunto_pai':'assunto_pai'})\n",
    "assunto = assunto.sort_values(by='cod_assunto', ascending=True)\n",
    "assunto.assunto_pai = nan_to_int(assunto,'assunto_pai')\n",
    "# cria instancias de assuntos\n",
    "assunto_post = assunto.drop(columns=['assunto_pai'])\n",
    "assunto_post = json.loads(assunto_post.to_json(orient='records'))\n",
    "r = api.post('assuntos', assunto_post)\n",
    "# atualiza as referencias circulares\n",
    "assunto_patch = pd.DataFrame(assunto[['cod_assunto','assunto_pai']])\n",
    "assunto_patch = json.loads(assunto_patch.to_json(orient='records'))\n",
    "bulk_patch = []\n",
    "for assunto in assunto_patch:\n",
    "    resp = api.patch('assuntos',assunto['cod_assunto'],assunto)\n",
    "    bulk_patch.append(resp)"
   ]
  },
  {
   "cell_type": "markdown",
   "metadata": {},
   "source": [
    "### Classe"
   ]
  },
  {
   "cell_type": "raw",
   "metadata": {},
   "source": [
    "classe = TJData.read_csv(TJData.csv['classe'], usecols=['COD_CLASSE', 'DESCR', 'COD_CLASSE_PAI','COD_PERS_ATIVO','COD_PERS_PASSIVO'])\n",
    "classe = classe.rename(columns=lambda x : str(x).lower())\n",
    "classe = classe.rename(columns={'cod_classe_pai':'classe_pai'})\n",
    "classe = classe.sort_values(by='cod_classe', ascending=True)\n",
    "classe.classe_pai = nan_to_int(classe,'classe_pai')\n",
    "classe.cod_pers_ativo = nan_to_int(classe,'cod_pers_ativo')\n",
    "classe.cod_pers_passivo = nan_to_int(classe,'cod_pers_passivo')\n",
    "classe_post = json.loads(pd.DataFrame(classe[['cod_classe','descr']]).to_json(orient='records'))\n",
    "classe_patch = json.loads(pd.DataFrame(classe[['cod_classe','classe_pai','cod_pers_ativo','cod_pers_passivo']]).to_json(orient='records'))\n",
    "r = api.post('classes',classe_post)\n",
    "bulk_patch = []\n",
    "for classe in classe_patch:\n",
    "    resp = api.patch('classes',classe['cod_classe'],classe)\n",
    "    bulk_patch.append(resp)"
   ]
  },
  {
   "cell_type": "code",
   "execution_count": 23,
   "metadata": {},
   "outputs": [],
   "source": [
    "classes = Classe.objects.all()"
   ]
  },
  {
   "cell_type": "code",
   "execution_count": 29,
   "metadata": {},
   "outputs": [
    {
     "data": {
      "text/plain": [
       "<Classe: Classe object (1107)>"
      ]
     },
     "execution_count": 29,
     "metadata": {},
     "output_type": "execute_result"
    }
   ],
   "source": [
    "classes[1].classe_pai"
   ]
  },
  {
   "cell_type": "code",
   "execution_count": null,
   "metadata": {},
   "outputs": [],
   "source": []
  }
 ],
 "metadata": {
  "kernelspec": {
   "display_name": "Django Shell-Plus",
   "language": "python",
   "name": "django_extensions"
  },
  "language_info": {
   "codemirror_mode": {
    "name": "ipython",
    "version": 3
   },
   "file_extension": ".py",
   "mimetype": "text/x-python",
   "name": "python",
   "nbconvert_exporter": "python",
   "pygments_lexer": "ipython3",
   "version": "3.7.3"
  }
 },
 "nbformat": 4,
 "nbformat_minor": 2
}
