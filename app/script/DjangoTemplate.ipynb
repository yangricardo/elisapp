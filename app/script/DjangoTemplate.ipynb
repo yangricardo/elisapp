{
 "cells": [
  {
   "cell_type": "code",
   "execution_count": 1,
   "metadata": {},
   "outputs": [],
   "source": [
    "import os, sys, django, pandas as pd , numpy as np, requests, json, re, itertools, ftfy\n",
    "from django.db.models import Q\n",
    "from utils import TJData, setup_env, ElisAPI\n",
    "# configura notebook para se utilizar recursos do django, se necessário\n",
    "setup_env() \n",
    "from api import models as tj\n",
    "# objeto para interagir com a minha API\n",
    "api = ElisAPI('http://0.0.0.0:8000','elisdbadmin','elisdbpassword')"
   ]
  },
  {
   "cell_type": "markdown",
   "metadata": {},
   "source": [
    "### Comarca\n",
    "O bloco de código abaixo foi utilizado para analisar e decidir visualmente qual planilha referente a comarcas será utilizada, a planilha mapeada por `comarca` possui a coluna `COD_SERV` possui codigos distintos dos referenciados por demais planilhas\n",
    "```\n",
    "com_1 = TJData.read_csv(TJData.csv['comarca'],usecols=['COD_COM','NOME','NOME_REDU','COD_TJ'])\n",
    "com_2 = TJData.read_csv(TJData.csv['comarca_2'], usecols=['COD_COMA','DESC_COMA','COD_TJ','DESC_REDU'])\n",
    "com = pd.merge(left=com_1,right=com_2,how='inner',left_on='NOME_REDU', right_on='DESC_REDU')\n",
    "```\n",
    "\n",
    "#### Tratamento de dados"
   ]
  },
  {
   "cell_type": "raw",
   "metadata": {},
   "source": [
    "comarcas = TJData.read_csv(TJData.csv['comarca_2'], usecols=['COD_COMA','DESC_COMA','DESC_REDU'])\n",
    "# converte o cabeçalho para caixa baixa\n",
    "comarcas = comarcas.rename(columns=lambda x: str(x).lower())\n",
    "# filtra as linhas com cod_coma nulas\n",
    "comarcas = comarcas[~pd.isnull(comarcas.cod_coma)]\n",
    "# converte de float para int\n",
    "comarcas.cod_coma = comarcas.cod_coma.astype(int)\n",
    "# codifica os bytes da string para utf8\n",
    "comarcas.desc_coma = TJData.to_utf8_bytes(comarcas.desc_coma)\n",
    "comarcas.desc_redu = TJData.to_utf8_bytes(comarcas.desc_redu)\n",
    "# converte o dataframe em objeto json (lista de dicionarios)\n",
    "comarcas = TJData.to_json(comarcas)\n",
    "# envia requisições post concorrentes\n",
    "r = api.concurrent_request(api.post,'comarcas',comarcas)"
   ]
  },
  {
   "cell_type": "raw",
   "metadata": {},
   "source": [
    "comarcas_erros = api.get_erros(r,201)\n",
    "comarcas_erros"
   ]
  },
  {
   "cell_type": "markdown",
   "metadata": {},
   "source": [
    "### Serventia\n",
    "\n",
    "``` \n",
    "serv_1 = TJData.read_csv(TJData.csv['serventia_2'], usecols=['COD_SERV','DESC_SERV','COD_COMA','DESC_ABRE','DESC_REDU'] )\n",
    "serv_2 = TJData.read_csv(TJData.csv['serventias_full'], usecols=['COD_SERV','DESC_SERV','COD_COMA','DESC_ABRE','DESC_REDU'])\n",
    "serv = pd.merge(left=serv_1,right=serv_2,how='inner',left_on='COD_SERV', right_on='COD_SERV')\n",
    "serv_outer = pd.merge(left=serv_1,right=serv_2,how='outer',left_on='COD_SERV', right_on='COD_SERV')\n",
    "```\n",
    "#### Tratamento de dados"
   ]
  },
  {
   "cell_type": "raw",
   "metadata": {},
   "source": [
    "serventias = TJData.read_csv(TJData.csv['serventia_2'], usecols=['COD_SERV','DESC_SERV','COD_COMA','DESC_ABRE'] )\n",
    "serventias = serventias.rename(columns=lambda x: str(x).lower())\n",
    "# ajusta cod_coma para referenciar o atributo comarca(FK) de serventia\n",
    "serventias = serventias.rename(columns={'cod_coma':'comarca'})\n",
    "serventias = serventias[~pd.isnull(serventias.comarca)]\n",
    "serventias.comarca = serventias.comarca.astype(int)\n",
    "# elimina codigos de comarca não existentes\n",
    "serventias = serventias.query(\"comarca != 888 & comarca != 999\")\n",
    "serventias.desc_serv =  TJData.to_utf8_bytes(serventias.desc_serv)\n",
    "serventias.desc_abre =  TJData.to_utf8_bytes(serventias.desc_abre)\n",
    "serventias = TJData.to_json(serventias)\n",
    "r = api.concurrent_request(api.post,'serventias',serventias)"
   ]
  },
  {
   "cell_type": "raw",
   "metadata": {},
   "source": [
    "serventias_erros = api.get_erros(r,201)\n",
    "serventias_erros"
   ]
  },
  {
   "cell_type": "markdown",
   "metadata": {},
   "source": [
    "### Competencias"
   ]
  },
  {
   "cell_type": "raw",
   "metadata": {},
   "source": [
    "competencias = TJData.read_csv(TJData.csv['competencia'], usecols=['COD_COMP', 'DESC_COMP', 'DESC_RES'])\n",
    "competencias = competencias.rename(columns=lambda x: str(x).lower())\n",
    "competencias.cod_comp = competencias.cod_comp.astype(int)\n",
    "competencias.desc_comp = TJData.to_utf8_bytes(competencias.desc_comp)\n",
    "competencias.desc_res= TJData.to_utf8_bytes(competencias.desc_res)\n",
    "competencias = TJData.to_json(competencias)\n",
    "r = api.concurrent_request(api.post,'competencias',competencias)"
   ]
  },
  {
   "cell_type": "raw",
   "metadata": {},
   "source": [
    "competencias_erros = api.get_erros(r,201)\n",
    "competencias_erros"
   ]
  },
  {
   "cell_type": "markdown",
   "metadata": {},
   "source": [
    "### Tipo Personagem"
   ]
  },
  {
   "cell_type": "raw",
   "metadata": {},
   "source": [
    "tp_pers = TJData.read_csv(TJData.csv['tipo_personagem'], usecols=['COD_TIP_PERS', 'DESC_PERS', 'TIPO_PART','COD_TIP_PERS_INV'])\n",
    "tp_pers = tp_pers.rename(columns=lambda x: str(x).lower())\n",
    "tp_pers.cod_tip_pers_inv = TJData.nan_to_int(tp_pers.cod_tip_pers_inv)\n",
    "tp_pers = tp_pers.sort_values(by='cod_tip_pers', ascending=True)\n",
    "tp_pers.desc_pers = TJData.to_utf8_bytes(tp_pers.desc_pers)\n",
    "tp_pers.tipo_part = TJData.to_utf8_bytes(tp_pers.tipo_part)\n",
    "# divide a requisição devido a referencia circular\n",
    "tp_pers_post = TJData.to_json(tp_pers.drop(columns=['cod_tip_pers_inv']))\n",
    "tp_pers_patch = TJData.to_json(tp_pers.drop(columns=['desc_pers','tipo_part']))\n",
    "r_post = api.concurrent_request(api.post,'tipospersonagem',tp_pers_post)\n",
    "r_patch = api.concurrent_request(api.patch,'tipospersonagem',tp_pers_patch,detail='cod_tip_pers')"
   ]
  },
  {
   "cell_type": "raw",
   "metadata": {},
   "source": [
    "tp_pers_erros = api.get_erros(r_patch,200)\n",
    "tp_pers_erros"
   ]
  },
  {
   "cell_type": "markdown",
   "metadata": {},
   "source": [
    "### Assunto"
   ]
  },
  {
   "cell_type": "raw",
   "metadata": {},
   "source": [
    "assuntos = TJData.read_csv(TJData.csv['assunto'], usecols=['COD_ASSUNTO', 'COD_ASSUNTO_PAI', 'DESCR'])\n",
    "assuntos = assuntos.rename(columns=lambda x: str(x).lower())\n",
    "assuntos = assuntos.rename(columns={'cod_assunto_pai':'assunto_pai'})\n",
    "assuntos = assuntos.sort_values(by='cod_assunto', ascending=True)\n",
    "assuntos.assunto_pai = TJData.nan_to_int(assuntos.assunto_pai)\n",
    "assuntos.descr = TJData.to_utf8_bytes(assuntos.descr)\n",
    "assuntos_post = TJData.to_json(assuntos.drop(columns=['assunto_pai']))\n",
    "assuntos_patch = TJData.to_json(assuntos.drop(columns=['descr']))\n",
    "r_post = api.concurrent_request(api.post,'assuntos',assuntos_post)\n",
    "r_patch = api.concurrent_request(api.patch,'assuntos',assuntos_patch,detail='cod_assunto')"
   ]
  },
  {
   "cell_type": "raw",
   "metadata": {},
   "source": [
    "assunto_post_erros = api.get_erros(r_post,201)\n",
    "assunto_post_erros"
   ]
  },
  {
   "cell_type": "raw",
   "metadata": {},
   "source": [
    "assunto_patch_erros = api.get_erros(r_patch,200)\n",
    "assunto_patch_erros"
   ]
  },
  {
   "cell_type": "markdown",
   "metadata": {},
   "source": [
    "### Classe"
   ]
  },
  {
   "cell_type": "raw",
   "metadata": {},
   "source": [
    "classes = TJData.read_csv(TJData.csv['classe'], usecols=['COD_CLASSE', 'DESCR', 'COD_CLASSE_PAI','COD_PERS_ATIVO','COD_PERS_PASSIVO'])\n",
    "classes = classes.rename(columns=lambda x : str(x).lower())\n",
    "classes = classes.rename(columns={'cod_classe_pai':'classe_pai'})\n",
    "classes = classes.sort_values(by='cod_classe', ascending=True)\n",
    "classes.classe_pai = TJData.nan_to_int(classes.classe_pai)\n",
    "classes.cod_pers_ativo = TJData.nan_to_int(classes.cod_pers_ativo)\n",
    "classes.cod_pers_passivo = TJData.nan_to_int(classes.cod_pers_passivo)\n",
    "classes.descr = TJData.to_utf8_bytes(classes.descr)\n",
    "classes_post = TJData.to_json(classes.drop(columns=['classe_pai','cod_pers_ativo','cod_pers_passivo']))\n",
    "classes_patch = TJData.to_json(classes.drop(columns=['descr']))\n",
    "r_post = api.concurrent_request(api.post,'classes',classes_post)\n",
    "r_patch = api.concurrent_request(api.patch,'classes',classes_patch,detail='cod_classe')"
   ]
  },
  {
   "cell_type": "raw",
   "metadata": {},
   "source": [
    "classe_post_erros = api.get_erros(r_post,201)\n",
    "classe_post_erros"
   ]
  },
  {
   "cell_type": "raw",
   "metadata": {
    "scrolled": true
   },
   "source": [
    "assunto_patch_erros = api.get_erros(r_patch,200)\n",
    "assunto_patch_erros"
   ]
  },
  {
   "cell_type": "markdown",
   "metadata": {},
   "source": [
    "### Classe assunto"
   ]
  },
  {
   "cell_type": "raw",
   "metadata": {},
   "source": [
    "classes_assuntos = TJData.read_csv(TJData.csv['classe_assunto_2'], usecols=['COD_CLASSE','COD_ASSUNTO'])\n",
    "classes_assuntos = classes_assuntos.rename(columns={'COD_CLASSE':'classe','COD_ASSUNTO':'assunto'})\n",
    "\n",
    "# # O bloco comentado auxilia na execução desse script caso alguma execução tenha falhado, filtra os registros ja cadastrados\n",
    "# classes = list(map(lambda x : x['cod_classe'], api.response_to_json(api.get('classes'))))\n",
    "# assuntos = list(map(lambda x : x['cod_assunto'], api.response_to_json(api.get('assuntos'))))\n",
    "# classes_assuntos = classes_assuntos[(classes_assuntos.classe.isin(classes)) & (classes_assuntos.assunto.isin(assuntos))]\n",
    "# ca_db = pd.DataFrame(api.response_to_json(api.get('classesassuntos')))\n",
    "# diff = list(set(zip(classes_assuntos.classe, classes_assuntos.assunto)) - set(zip(ca_db.classe, ca_db.assunto)))\n",
    "# classes_assuntos = pd.DataFrame(diff, columns=['classe','assunto'])\n",
    "classes_assuntos = TJData.to_json(classes_assuntos)\n",
    "classes_assuntos = api.split_list(classes_assuntos,1000)\n",
    "r = api.concurrent_request(api.post,'classesassuntos',classes_assuntos)"
   ]
  },
  {
   "cell_type": "markdown",
   "metadata": {},
   "source": [
    "### Tipo movimento"
   ]
  },
  {
   "cell_type": "raw",
   "metadata": {},
   "source": [
    "tp_movimento = TJData.read_csv(TJData.csv['tipo_movimento_2'], usecols=['COD_TIP_MOV', 'COD_TIP_MOV_PAI','DESCR'])\n",
    "tp_movimento = tp_movimento.rename(columns=lambda x : str(x).lower())\n",
    "tp_movimento.cod_tip_mov_pai = TJData.nan_to_int(tp_movimento.cod_tip_mov_pai)\n",
    "tp_movimento.descr = TJData.to_utf8_bytes(tp_movimento.descr)\n",
    "tp_movimento = tp_movimento.sort_values(by='cod_tip_mov', ascending=True)\n",
    "tp_movimento_post = TJData.to_json(tp_movimento.drop(columns=['cod_tip_mov_pai']))\n",
    "tp_movimento_patch = TJData.to_json(tp_movimento.drop(columns=['descr']))\n",
    "r_post = api.concurrent_request(api.post,'tiposmovimento',tp_movimento_post)\n",
    "r_patch = api.concurrent_request(api.patch,'tiposmovimento',tp_movimento_patch,detail='cod_tip_mov')"
   ]
  },
  {
   "cell_type": "raw",
   "metadata": {},
   "source": [
    "tp_mov_post_erros = api.get_erros(r_post,201)\n",
    "tp_mov_post_erros"
   ]
  },
  {
   "cell_type": "raw",
   "metadata": {},
   "source": [
    "tp_mov_patch_erros = api.get_erros(r_patch,200)\n",
    "tp_mov_patch_erros"
   ]
  },
  {
   "cell_type": "markdown",
   "metadata": {},
   "source": [
    "### Tipo Andamento"
   ]
  },
  {
   "cell_type": "raw",
   "metadata": {},
   "source": [
    "tp_andamento = TJData.read_csv(TJData.csv['tipo_andamento'], usecols=['COD_TIP_AND','DESCR','COD_TIP_MOV'])\n",
    "tp_andamento = tp_andamento.rename(columns=lambda x : str(x).lower())\n",
    "tp_andamento.cod_tip_mov = TJData.nan_to_int(tp_andamento.cod_tip_mov)\n",
    "tp_andamento.descr = TJData.to_utf8_bytes(tp_andamento.descr)\n",
    "tp_andamento = TJData.to_json(tp_andamento)\n",
    "r_post = api.concurrent_request(api.post,'tiposandamento',tp_andamento)"
   ]
  },
  {
   "cell_type": "raw",
   "metadata": {},
   "source": [
    "tp_and_post_erros = api.get_erros(r_post,201)\n",
    "tp_and_post_erros"
   ]
  },
  {
   "cell_type": "markdown",
   "metadata": {},
   "source": [
    "### Cargo"
   ]
  },
  {
   "cell_type": "raw",
   "metadata": {},
   "source": [
    "cargo = TJData.read_csv(TJData.csv['cargo'])\n",
    "cargo = cargo.rename(columns=lambda x: str(x).lower())\n",
    "cargo = cargo.sort_values(by='cod_carg', ascending=True)\n",
    "cargo.descr = TJData.to_utf8_bytes(cargo.descr)\n",
    "cargo = TJData.to_json(cargo)\n",
    "r = api.concurrent_request(api.post,'cargos',cargo)"
   ]
  },
  {
   "cell_type": "raw",
   "metadata": {},
   "source": [
    "cargo_post_erros = api.get_erros(r_post,201)\n",
    "cargo_post_erros"
   ]
  },
  {
   "cell_type": "markdown",
   "metadata": {},
   "source": [
    "### Funcionário"
   ]
  },
  {
   "cell_type": "raw",
   "metadata": {},
   "source": [
    "funcionario = TJData.read_csv(TJData.csv['funcionario'], usecols=['NUM_MATR','NOME','COD_CARG'])\n",
    "funcionario = funcionario.rename(columns=lambda x : x.lower())\n",
    "funcionario.num_matr = TJData.to_utf8_bytes(funcionario.num_matr)\n",
    "funcionario.nome = TJData.to_utf8_bytes(funcionario.nome)\n",
    "funcionario.cod_carg = TJData.nan_to_int(funcionario.cod_carg)\n",
    "# filtra Juiz(3), Juiz Leigo(19) e Juiz de Direito - Desabilitado pela SOI (98)\n",
    "funcionario = funcionario.query('cod_carg==\"3\" | cod_carg==\"19\" | cod_carg==\"98\"')\n",
    "funcionario = TJData.to_json(funcionario)\n",
    "r_post = api.concurrent_request(api.post,'funcionarios',funcionario)"
   ]
  },
  {
   "cell_type": "raw",
   "metadata": {},
   "source": [
    "func_post_erros = api.get_erros(r_post,201)\n",
    "func_post_erros"
   ]
  },
  {
   "cell_type": "markdown",
   "metadata": {},
   "source": [
    "### Tipo Decisão Recurso"
   ]
  },
  {
   "cell_type": "raw",
   "metadata": {},
   "source": [
    "tp_recursos = TJData.read_csv(TJData.csv['tipo_decisao_recurso'])\n",
    "tp_recursos = tp_recursos.rename(columns=lambda x:x.lower())\n",
    "tp_recursos.descr = TJData.to_utf8(tp_recursos.descr)\n",
    "tp_recursos = TJData.to_json(tp_recursos)\n",
    "r_post = api.concurrent_request(api.post,'tiposdecisaorecurso',tp_recursos)"
   ]
  },
  {
   "cell_type": "raw",
   "metadata": {},
   "source": [
    "tp_rec_post_erros = api.get_erros(r_post,201)\n",
    "tp_rec_post_erros"
   ]
  },
  {
   "cell_type": "markdown",
   "metadata": {},
   "source": [
    "### Tipo Ato Juiz"
   ]
  },
  {
   "cell_type": "raw",
   "metadata": {},
   "source": [
    "tp_ato_juiz = TJData.read_csv(TJData.csv['tipo_ato_juiz'])\n",
    "tp_ato_juiz = tp_ato_juiz.rename(columns=lambda x:x.lower())\n",
    "tp_ato_juiz.descr = TJData.to_utf8_bytes(tp_ato_juiz.descr)\n",
    "tp_ato_juiz = TJData.to_json(tp_ato_juiz)\n",
    "r_post = api.concurrent_request(api.post,'tiposatojuiz',tp_ato_juiz)"
   ]
  },
  {
   "cell_type": "raw",
   "metadata": {},
   "source": [
    "tp_ato_juiz_post_erros = api.get_erros(r_post,201)\n",
    "tp_ato_juiz_post_erros"
   ]
  },
  {
   "cell_type": "markdown",
   "metadata": {},
   "source": [
    "### Ato Juiz"
   ]
  },
  {
   "cell_type": "raw",
   "metadata": {},
   "source": [
    "# descoberta de tuplas diferentes entre as tabelas ato juiz\n",
    "atos_juiz = TJData.read_csv(TJData.csv['ato_juiz'],usecols=['COD_TIP_ATO','COD_ATO','DESCR','COD_TIP_MOV'])\n",
    "atos_juiz_2 = TJData.read_csv(TJData.csv['ato_juiz_2'],usecols=['COD_TIP_ATO','COD_ATO','DESCR','COD_TIP_MOV'])\n",
    "set_atos_juiz = set(map(lambda x: (x['COD_ATO'],x['DESCR']),TJData.to_json(atos_juiz)))\n",
    "set_atos_juiz_2 = set(map(lambda x: (x['COD_ATO'],x['DESCR']),TJData.to_json(atos_juiz_2)))\n",
    "set_atos_juiz_2.difference(set_atos_juiz)"
   ]
  },
  {
   "cell_type": "raw",
   "metadata": {},
   "source": [
    "atos_juiz = TJData.read_csv(TJData.csv['ato_juiz_2'],usecols=['COD_TIP_ATO','COD_ATO','DESCR','COD_TIP_MOV'])\n",
    "atos_juiz = atos_juiz.rename(columns=lambda x: x.lower())\n",
    "atos_juiz = atos_juiz.rename(columns={'cod_tip_ato':'tipo_ato_juiz','cod_tip_mov':'tipo_movimento'})\n",
    "atos_juiz.descr = TJData.to_utf8_bytes(atos_juiz.descr)\n",
    "atos_juiz = TJData.to_json(atos_juiz)\n",
    "r_post = api.concurrent_request(api.post,'atosjuiz',atos_juiz)"
   ]
  },
  {
   "cell_type": "raw",
   "metadata": {},
   "source": [
    "ato_juiz_post_erros = api.get_erros(r_post,201)\n",
    "ato_juiz_post_erros"
   ]
  },
  {
   "cell_type": "markdown",
   "metadata": {},
   "source": [
    "### Tipo Documento"
   ]
  },
  {
   "cell_type": "raw",
   "metadata": {},
   "source": [
    "tipos_documento = TJData.read_csv(TJData.csv['tipo_documento'],usecols=['ID_TIP_DOC','DESCR'])\n",
    "tipos_documento = tipos_documento.rename(columns=lambda x : x.lower())\n",
    "tipos_documento.descr = TJData.to_utf8_bytes(tipos_documento.descr)\n",
    "tipos_documento = TJData.to_json(tipos_documento)\n",
    "r_post = api.concurrent_request(api.post,'tiposdocumento',tipos_documento)"
   ]
  },
  {
   "cell_type": "raw",
   "metadata": {},
   "source": [
    "tp_doc_post_erros = api.get_erros(r_post,201)\n",
    "tp_doc_post_erros"
   ]
  },
  {
   "cell_type": "markdown",
   "metadata": {},
   "source": [
    "### Processo"
   ]
  },
  {
   "cell_type": "markdown",
   "metadata": {},
   "source": [
    "#### Obtem as serventias com função de Juizado Especial Cível das comarcas de Bangu e Campo Grande"
   ]
  },
  {
   "cell_type": "code",
   "execution_count": 2,
   "metadata": {},
   "outputs": [
    {
     "data": {
      "text/html": [
       "<div>\n",
       "<style scoped>\n",
       "    .dataframe tbody tr th:only-of-type {\n",
       "        vertical-align: middle;\n",
       "    }\n",
       "\n",
       "    .dataframe tbody tr th {\n",
       "        vertical-align: top;\n",
       "    }\n",
       "\n",
       "    .dataframe thead th {\n",
       "        text-align: right;\n",
       "    }\n",
       "</style>\n",
       "<table border=\"1\" class=\"dataframe\">\n",
       "  <thead>\n",
       "    <tr style=\"text-align: right;\">\n",
       "      <th></th>\n",
       "      <th>comarca.desc_redu</th>\n",
       "      <th>comarca.desc_coma</th>\n",
       "      <th>cod_serv</th>\n",
       "      <th>desc_serv</th>\n",
       "    </tr>\n",
       "  </thead>\n",
       "  <tbody>\n",
       "    <tr>\n",
       "      <th>0</th>\n",
       "      <td>BAN</td>\n",
       "      <td>Regional de Bangu</td>\n",
       "      <td>204009</td>\n",
       "      <td>Cartório do 17º Juizado Especial Cível</td>\n",
       "    </tr>\n",
       "    <tr>\n",
       "      <th>1</th>\n",
       "      <td>BAN</td>\n",
       "      <td>Regional de Bangu</td>\n",
       "      <td>204509</td>\n",
       "      <td>17º Juizado Especial Cível</td>\n",
       "    </tr>\n",
       "    <tr>\n",
       "      <th>2</th>\n",
       "      <td>BAN</td>\n",
       "      <td>Regional de Bangu</td>\n",
       "      <td>204025</td>\n",
       "      <td>Cartório do 29º Juizado Especial Cível</td>\n",
       "    </tr>\n",
       "    <tr>\n",
       "      <th>3</th>\n",
       "      <td>BAN</td>\n",
       "      <td>Regional de Bangu</td>\n",
       "      <td>204525</td>\n",
       "      <td>29º Juizado Especial Cível</td>\n",
       "    </tr>\n",
       "    <tr>\n",
       "      <th>4</th>\n",
       "      <td>CGR</td>\n",
       "      <td>Regional de Campo Grande</td>\n",
       "      <td>205020</td>\n",
       "      <td>Cartório do 26º Juizado Especial Cível</td>\n",
       "    </tr>\n",
       "    <tr>\n",
       "      <th>5</th>\n",
       "      <td>CGR</td>\n",
       "      <td>Regional de Campo Grande</td>\n",
       "      <td>205520</td>\n",
       "      <td>26º Juizado Especial Cível</td>\n",
       "    </tr>\n",
       "    <tr>\n",
       "      <th>6</th>\n",
       "      <td>CGR</td>\n",
       "      <td>Regional de Campo Grande</td>\n",
       "      <td>205507</td>\n",
       "      <td>18º Juizado Especial Cível</td>\n",
       "    </tr>\n",
       "    <tr>\n",
       "      <th>7</th>\n",
       "      <td>CGR</td>\n",
       "      <td>Regional de Campo Grande</td>\n",
       "      <td>205007</td>\n",
       "      <td>Cartório do 18º Juizado Especial Cível</td>\n",
       "    </tr>\n",
       "  </tbody>\n",
       "</table>\n",
       "</div>"
      ],
      "text/plain": [
       "  comarca.desc_redu         comarca.desc_coma  cod_serv  \\\n",
       "0               BAN         Regional de Bangu    204009   \n",
       "1               BAN         Regional de Bangu    204509   \n",
       "2               BAN         Regional de Bangu    204025   \n",
       "3               BAN         Regional de Bangu    204525   \n",
       "4               CGR  Regional de Campo Grande    205020   \n",
       "5               CGR  Regional de Campo Grande    205520   \n",
       "6               CGR  Regional de Campo Grande    205507   \n",
       "7               CGR  Regional de Campo Grande    205007   \n",
       "\n",
       "                                desc_serv  \n",
       "0  Cartório do 17º Juizado Especial Cível  \n",
       "1              17º Juizado Especial Cível  \n",
       "2  Cartório do 29º Juizado Especial Cível  \n",
       "3              29º Juizado Especial Cível  \n",
       "4  Cartório do 26º Juizado Especial Cível  \n",
       "5              26º Juizado Especial Cível  \n",
       "6              18º Juizado Especial Cível  \n",
       "7  Cartório do 18º Juizado Especial Cível  "
      ]
     },
     "execution_count": 2,
     "metadata": {},
     "output_type": "execute_result"
    }
   ],
   "source": [
    "serventias_jec = pd.DataFrame(\n",
    "    list(map(lambda x: (x.comarca.desc_redu,x.comarca.desc_coma, x.cod_serv, x.desc_serv),\n",
    "        tj.Serventia.objects.filter(\n",
    "            Q(desc_serv__contains='Juizado Especial Cível'),\n",
    "            Q(comarca__desc_redu='BAN') | Q(comarca__desc_redu='CGR')\n",
    "    ))),\n",
    "    columns=['comarca.desc_redu','comarca.desc_coma','cod_serv','desc_serv']\n",
    ")\n",
    "serventias_jec"
   ]
  },
  {
   "cell_type": "markdown",
   "metadata": {},
   "source": [
    "#### Obtem a lista de planilhas para processar resultantes codigos de serventias e do intervalo de anos selecinados "
   ]
  },
  {
   "cell_type": "raw",
   "metadata": {},
   "source": [
    "# colunas que serão utilizadas no processo\n",
    "usecols=['COD_PROC','COD_COMP','COD_SERV','ID_PROC','COD_ASSUNTO','DATA_CAD']\n",
    "\n",
    "# obtem uma lista com tuplas combinando as serventias e o intervalo de ano desejado\n",
    "servs_anos = TJData.build_serventias_anos_list(list(serventias_jec.cod_serv),range(2013,2017))\n",
    "\n",
    "# obtem a lista de arquivos disponíveis para processar\n",
    "files_processo = TJData.list_files_in_serventias_anos(TJData.processo,servs_anos)\n",
    "# lista codigos de serventia\n",
    "serventias = list(map(lambda x : x,serventias_jec.cod_serv))\n",
    "serventias"
   ]
  },
  {
   "cell_type": "raw",
   "metadata": {},
   "source": [
    "# le em paralelo os arquivos referentes aos processos\n",
    "processo_dfs = TJData.concurrent_read(TJData.clean_processo, files_processo, kwargs = {\n",
    "    'usecols':usecols\n",
    "})\n",
    "# unifica em um unico dataframe\n",
    "processo_dfs = pd.concat(processo_dfs)\n",
    "# obtem lista de cod_procs existentes no dataframe\n",
    "cod_procs = list(processo_dfs.cod_proc.unique())"
   ]
  },
  {
   "cell_type": "raw",
   "metadata": {},
   "source": [
    "usecols = ['ID_PROC','COD_CNJ','COD_PROC']\n",
    "usecols_ = list(map(lambda x: x.lower(),usecols))\n",
    "proc_unico_dfs = []\n",
    "for df in TJData.read_csv(TJData.csv['processo_unico'], usecols=usecols, chunksize=3000000):\n",
    "    # filtra chunk do dataframe pelos processos listados a partir dos dataframes lidos anteriormente \n",
    "    df = df[df.COD_PROC.isin(cod_procs)]\n",
    "    df = df.rename(columns=lambda x : x.lower())\n",
    "    df.id_proc = df.id_proc.apply(lambda x : str(x))\n",
    "    df = df[usecols_]\n",
    "    if not df.empty:\n",
    "        proc_unico_dfs.append(df)\n",
    "\n",
    "# unifica dataframes filtrados identificados a partir dos chunk        \n",
    "proc_unico_dfs = pd.concat(proc_unico_dfs)\n",
    "# realiza left join com os codigos cnj identificados\n",
    "processo_dfs = processo_dfs.merge(proc_unico_dfs, on=['cod_proc','id_proc'], how='left')\n",
    "del proc_unico_dfs\n",
    "processo_dfs.cod_proc = TJData.to_utf8_bytes(processo_dfs.cod_proc)\n",
    "processo_dfs.cod_cnj = TJData.to_utf8_bytes(processo_dfs.cod_cnj)\n",
    "processo_dfs = TJData.to_json(processo_dfs)\n",
    "processo_dfs = api.split_list(processo_dfs, 100)"
   ]
  },
  {
   "cell_type": "raw",
   "metadata": {},
   "source": [
    "len_proc = []\n",
    "for p in processo_dfs:\n",
    "    len_proc.append(len(p))\n",
    "sum(len_proc),len(processo_dfs),len(processo_dfs[0]),len(processo_dfs[-1])"
   ]
  },
  {
   "cell_type": "raw",
   "metadata": {},
   "source": [
    "r_post = api.concurrent_request(api.post,'processos',processo_dfs)\n",
    "processos_post_erros = api.get_erros(r_post,201)\n",
    "processos_post_erros"
   ]
  },
  {
   "cell_type": "markdown",
   "metadata": {},
   "source": [
    "####  carrega os processos que por algum motivo não tenham sido processados anteriormente"
   ]
  },
  {
   "cell_type": "raw",
   "metadata": {},
   "source": [
    "#obtem dataframe original\n",
    "processos = pd.concat(all_dfs)\n",
    "#obtem lista de id_proc cadastrados\n",
    "in_db = list(map(lambda x: x.id_proc,tj.Processo.objects.all()))\n",
    "#filtra processos que não estão cadastrados\n",
    "processos = processos[~processos.id_proc.isin(in_db)]\n",
    "processos = TJData.to_json(processos)\n",
    "r_post = api.concurrent_request(api.post,'processos',processos)"
   ]
  },
  {
   "cell_type": "markdown",
   "metadata": {},
   "source": [
    "### Andamento Processo (Sentença)"
   ]
  },
  {
   "cell_type": "raw",
   "metadata": {},
   "source": [
    "servs_anos = TJData.build_serventias_anos_list(list(serventias_jec.cod_serv),range(2013,2017))\n",
    "cod_procs = list(map(lambda x: x.cod_proc,tj.Processo.objects.all()))\n",
    "juizes = list(map(lambda x: x.num_matr, tj.Funcionario.objects.all()))\n",
    "tipos_andamento = list(map(lambda x: x.cod_tip_and, tj.TipoAndamento.objects.all()))\n",
    "usecols = ['COD_PROC','ORDEM','COD_TIP_AND','NUM_MATR_JUIZ','COD_TIP_ATO','DT_ATO','COD_ATO','COD_SERV','COD_TIP_DEC_REC','TXT_DESCR','TXT_DESCR_RES']\n",
    "mergecols = ['cod_proc','ordem']\n",
    "files_andamentos_clob = TJData.list_files_in_serventias_anos(TJData.andamento_processo_clob,servs_anos)\n",
    "files_andamentos = TJData.list_files_in_serventias_anos(TJData.andamento_processo,servs_anos)\n",
    "files_andamentos += list(filter(lambda x : re.search(r'AndamentoProcesso_',x),files_andamentos_clob))\n",
    "files_andamentos_clob = list(filter(lambda x : re.search(r'AndamentoProcessoClob_',x),files_andamentos_clob))\n",
    "\n",
    "clean_andamentos_kwargs = {\n",
    "    'usecols':usecols,\n",
    "    'mergecols':mergecols,\n",
    "    'files_clob_list':files_andamentos_clob,\n",
    "    'clob_pattern':TJData.andamento_processo_clob,\n",
    "    'juizes':juizes,\n",
    "    'tipos_andamento':tipos_andamento,\n",
    "}"
   ]
  },
  {
   "cell_type": "raw",
   "metadata": {},
   "source": [
    "# le em paralelo os arquivos referentes aos processos\n",
    "andamento_dfs = TJData.concurrent_read(TJData.clean_andamentos, files_andamentos, clean_andamentos_kwargs)\n",
    "andamento_dfs = pd.concat(andamento_dfs)"
   ]
  },
  {
   "cell_type": "raw",
   "metadata": {},
   "source": [
    "andamento_dfs = andamento_dfs.sort_values(['processo','ordem','juiz'])\n",
    "andamento_dfs = andamento_dfs.drop_duplicates()\n",
    "usecols = list(andamento_dfs.columns)\n",
    "usecols.remove('num_seq')\n",
    "andamento_dfs = andamento_dfs[usecols]\n",
    "andamento_dfs = TJData.to_json(andamento_dfs)\n",
    "# andamento_dfs = api.split_list(andamento_dfs,150)"
   ]
  },
  {
   "cell_type": "raw",
   "metadata": {},
   "source": [
    "r_post = api.concurrent_request(api.post,'andamentosprocesso',andamento_dfs)\n",
    "andamentos_post_erros = api.get_erros(r_post, 201)"
   ]
  },
  {
   "cell_type": "markdown",
   "metadata": {},
   "source": [
    "### Personagem"
   ]
  },
  {
   "cell_type": "code",
   "execution_count": 3,
   "metadata": {},
   "outputs": [
    {
     "data": {
      "text/plain": [
       "[5990665, 180213, 199, 4155468]"
      ]
     },
     "execution_count": 3,
     "metadata": {},
     "output_type": "execute_result"
    }
   ],
   "source": [
    "files = [TJData.csv['personagem'],TJData.csv['personagem_especial'],TJData.csv['personagem_especial_original'],TJData.csv['personagem_processo']]\n",
    "num_lines = [ TJData.count_lines(file) for file in files ]\n",
    "num_lines"
   ]
  },
  {
   "cell_type": "code",
   "execution_count": 4,
   "metadata": {},
   "outputs": [],
   "source": [
    "#obtem a lista de processos cadastrados\n",
    "processos_indb = list(map(lambda x : x.cod_proc,tj.Processo.objects.all()))\n",
    "\n",
    "usecols = ['COD_PROC','COD_PERS','COD_ADV','COD_TIP_PERS','TIP_POLO']\n",
    "personagem_processo = pd.DataFrame(columns=usecols).rename(columns=lambda x: x.lower())\n",
    "# carrega dados de personagem processo filtrando pelos processos ja cadastrados no banco de dados\n",
    "for df in TJData.read_csv(TJData.csv['personagem_processo'], usecols=usecols ,chunksize=1000000):\n",
    "    df = df.rename(columns= lambda x : x.lower())\n",
    "    df.cod_pers = TJData.nan_to_int(df.cod_pers)\n",
    "    df.cod_adv = TJData.nan_to_int(df.cod_adv)\n",
    "    df.cod_tip_pers = TJData.nan_to_int(df.cod_tip_pers)\n",
    "    df = df[df.cod_proc.isin(processos_indb)]\n",
    "    personagem_processo = pd.concat([personagem_processo,df])"
   ]
  },
  {
   "cell_type": "code",
   "execution_count": 5,
   "metadata": {},
   "outputs": [],
   "source": [
    "# obtem tipos personagem cadastrados\n",
    "tp_pers = pd.DataFrame(sorted(api.response_to_json(api.get('tipospersonagem')), key = lambda k:k['cod_tip_pers']))\n",
    "# converte para string os codigos do personagem para cruzar com os cod_tip_pers\n",
    "tp_pers.cod_tip_pers = TJData.nan_to_int(tp_pers.cod_tip_pers)\n",
    "tp_pers.cod_tip_pers_inv = TJData.nan_to_int(tp_pers.cod_tip_pers_inv)\n",
    "# filtra os personagem_processo baseado nos processos cadastrados no banco\n",
    "tp_pers = tp_pers[tp_pers.cod_tip_pers.isin(list(personagem_processo.cod_tip_pers.unique()))]\n",
    "# filtra os personagem_processo caso sejam advogado, escritório advocacia, personagem ativo e passivo\n",
    "tp_pers = tp_pers[(tp_pers.cod_tip_pers=='137') | (tp_pers.cod_tip_pers=='0') | (tp_pers.tipo_part=='A') | (tp_pers.tipo_part=='P')].reset_index(drop=True)\n",
    "tp_pers = list(tp_pers.cod_tip_pers)\n",
    "# filtra personagem_processo pelos tipos selecionados\n",
    "personagem_processo = personagem_processo[personagem_processo.cod_tip_pers.isin(tp_pers)].sort_values(by='cod_proc', ascending=True).reset_index(drop=True)"
   ]
  },
  {
   "cell_type": "code",
   "execution_count": 6,
   "metadata": {},
   "outputs": [],
   "source": [
    "cod_pers = list(personagem_processo[~pd.isna(personagem_processo.cod_pers)].cod_pers.unique())\n",
    "cod_advs = list(personagem_processo[~pd.isna(personagem_processo.cod_adv)].cod_adv.unique())"
   ]
  },
  {
   "cell_type": "markdown",
   "metadata": {},
   "source": [
    "#### carrega dados codigo e nome do personagem especial (jurídica) e personagens pessoa fĩsicaa"
   ]
  },
  {
   "cell_type": "code",
   "execution_count": 7,
   "metadata": {},
   "outputs": [],
   "source": [
    "# pessoa jurídica\n",
    "usecols = ['COD_PERS','NOME']\n",
    "personagem = TJData.read_csv(TJData.csv['personagem_especial_original'], usecols=usecols ,nrows=500)\n",
    "personagem = personagem.rename(columns=lambda x: x.lower())\n",
    "personagem = personagem[['cod_pers','nome']]\n",
    "personagem.cod_pers = TJData.nan_to_int(personagem.cod_pers)\n",
    "personagem.nome = TJData.to_utf8_bytes(personagem.nome)\n",
    "\n",
    "# pessoa física\n",
    "for df in TJData.read_csv(TJData.csv['personagem'], usecols=usecols ,chunksize=1000000):\n",
    "    df = df.rename(columns= lambda x : x.lower())\n",
    "    df = df.rename(columns=lambda x: x.lower())\n",
    "    df = df[['cod_pers','nome']]\n",
    "    df.cod_pers = TJData.nan_to_int(df.cod_pers)\n",
    "    df.nome = TJData.to_utf8_bytes(df.nome)\n",
    "    df = df[df.cod_pers.isin(cod_pers)]\n",
    "    personagem = pd.concat([personagem,df])\n",
    "\n",
    "# join com personagens pessoa física e jurídica com processo\n",
    "personagem_processo = personagem_processo.merge(personagem, on='cod_pers', how='left')"
   ]
  },
  {
   "cell_type": "markdown",
   "metadata": {},
   "source": [
    "#### carrega dados dos advogados"
   ]
  },
  {
   "cell_type": "code",
   "execution_count": 8,
   "metadata": {},
   "outputs": [],
   "source": [
    "usecols = ['COD_ADV','NUM_OAB','NOME_ADV']\n",
    "advogados = TJData.read_csv(TJData.csv['advogado'],usecols=usecols).rename(columns=lambda x: x.lower())\n",
    "advogados.num_oab = TJData.to_utf8_bytes(advogados.num_oab)\n",
    "advogados.nome_adv = TJData.to_utf8_bytes(advogados.nome_adv)\n",
    "advogados.cod_adv = TJData.nan_to_int(advogados.cod_adv)\n",
    "# join de advogados com personagem processo\n",
    "personagem_processo = personagem_processo.merge(advogados, on='cod_adv', how='left')"
   ]
  },
  {
   "cell_type": "markdown",
   "metadata": {},
   "source": [
    "#### divide as associações aos processos entre personagens (fisico ou juridico) e advogados"
   ]
  },
  {
   "cell_type": "code",
   "execution_count": 9,
   "metadata": {},
   "outputs": [],
   "source": [
    "adv_usecols = ['cod_proc','cod_adv','cod_tip_pers','tip_polo','num_oab','nome_adv']\n",
    "pers_usecols = ['cod_proc','cod_pers','cod_tip_pers','tip_polo','nome']\n",
    "# obtem associações entre advogados e processos\n",
    "advogado_processo = personagem_processo[~pd.isna(personagem_processo.cod_adv)]\n",
    "advogado_processo = advogado_processo[adv_usecols]\n",
    "\n",
    "# obtem associações entre personagens e processos\n",
    "personagem_processo = personagem_processo[pd.isna(personagem_processo.cod_adv)]\n",
    "personagem_processo = personagem_processo[pers_usecols]\n",
    "\n",
    "# obtem personagem a partir das associações\n",
    "personagem = personagem_processo[['cod_pers','nome']]\n",
    "personagem = personagem.drop_duplicates()\n",
    "\n",
    "# obtem detalhamento das associações entre personagem e processo\n",
    "personagem_processo = personagem_processo[['cod_proc','cod_pers','cod_tip_pers','tip_polo']]\n",
    "\n",
    "# obtem advogados a partir das associações\n",
    "advogados = advogado_processo[['cod_adv','num_oab','nome_adv']]\n",
    "advogados = advogados.drop_duplicates()\n",
    "\n",
    "# obtem detalhamento das associações entre advogados e processo\n",
    "advogado_processo = advogado_processo[['cod_proc','cod_adv','cod_tip_pers','tip_polo']]"
   ]
  },
  {
   "cell_type": "code",
   "execution_count": 12,
   "metadata": {},
   "outputs": [
    {
     "data": {
      "text/plain": [
       "((389422, 4), (275890, 2))"
      ]
     },
     "execution_count": 12,
     "metadata": {},
     "output_type": "execute_result"
    }
   ],
   "source": []
  },
  {
   "cell_type": "code",
   "execution_count": null,
   "metadata": {},
   "outputs": [],
   "source": []
  }
 ],
 "metadata": {
  "kernelspec": {
   "display_name": "Django Shell-Plus",
   "language": "python",
   "name": "django_extensions"
  },
  "language_info": {
   "codemirror_mode": {
    "name": "ipython",
    "version": 3
   },
   "file_extension": ".py",
   "mimetype": "text/x-python",
   "name": "python",
   "nbconvert_exporter": "python",
   "pygments_lexer": "ipython3",
   "version": "3.7.3"
  }
 },
 "nbformat": 4,
 "nbformat_minor": 2
}
